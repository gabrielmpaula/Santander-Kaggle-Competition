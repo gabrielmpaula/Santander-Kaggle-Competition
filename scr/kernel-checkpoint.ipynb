{
 "cells": [
  {
   "cell_type": "code",
   "execution_count": 1,
   "metadata": {
    "_cell_guid": "b1076dfc-b9ad-4769-8c92-a6c4dae69d19",
    "_uuid": "8f2839f25d086af736a60e9eeb907d3b93b6e0e5"
   },
   "outputs": [
    {
     "name": "stdout",
     "output_type": "stream",
     "text": [
      "['sample_submission.csv', 'test.csv', 'test.zip', 'train.csv']\n"
     ]
    }
   ],
   "source": [
    "import numpy as np # linear algebra\n",
    "import pandas as pd # data processing, CSV file I/O (e.g. pd.read_csv)\n",
    "\n",
    "from scipy.stats import boxcox\n",
    "from scipy.special import boxcox1p\n",
    "from scipy.special import inv_boxcox\n",
    "from scipy.special import inv_boxcox1p\n",
    "from scipy.stats import skew\n",
    "\n",
    "from sklearn.model_selection import cross_val_score\n",
    "from sklearn.model_selection import train_test_split \n",
    "from sklearn.model_selection import KFold\n",
    "from sklearn.model_selection import GridSearchCV\n",
    "from sklearn.model_selection import StratifiedKFold\n",
    "\n",
    "from sklearn.metrics import make_scorer\n",
    "from sklearn.metrics import mean_squared_error\n",
    "\n",
    "from sklearn.ensemble import RandomForestRegressor\n",
    "from sklearn.preprocessing import StandardScaler\n",
    "\n",
    "from sklearn.linear_model import Ridge\n",
    "from sklearn.linear_model import Lasso\n",
    "\n",
    "# from keras import backend\n",
    "import xgboost as xgb\n",
    "import lightgbm as lgb\n",
    "from xgboost.sklearn import XGBRegressor\n",
    "\n",
    "import seaborn as sns\n",
    "import matplotlib.pyplot as plt\n",
    "\n",
    "import os\n",
    "print(os.listdir(\"../input\"))\n",
    "\n",
    "%matplotlib inline"
   ]
  },
  {
   "cell_type": "code",
   "execution_count": 2,
   "metadata": {
    "_uuid": "e2af8b85423a3194d72853d61354af50898f9cc0"
   },
   "outputs": [],
   "source": [
    "def rmsle(y, y0):\n",
    "    assert len(y) == len(y0)\n",
    "    return np.sqrt(np.mean(np.power(np.log1p(y)-np.log1p(y0), 2)))\n",
    "\n",
    "def rmse(y, y0):\n",
    "    assert len(y) == len(y0)\n",
    "    return np.sqrt(np.mean(np.power(y-y0, 2)))\n",
    "\n",
    "seed = 7\n",
    "np.random.seed(seed)"
   ]
  },
  {
   "cell_type": "code",
   "execution_count": 3,
   "metadata": {
    "_cell_guid": "79c7e3d0-c299-4dcb-8224-4455121ee9b0",
    "_uuid": "d629ff2d2480ee46fbb7e2d37f6b5fab8052498a"
   },
   "outputs": [],
   "source": [
    "train_df = pd.read_csv('../input/train.csv')\n",
    "test_df = pd.read_csv('../input/test.csv')\n",
    "\n",
    "target_df = train_df['target']\n",
    "target_df = pd.DataFrame(target_df, columns=['target'])\n",
    "\n",
    "train_df = train_df.drop(columns=['target'])\n",
    "train_df = train_df.set_index('ID')\n",
    "\n",
    "test_df = test_df.set_index('ID')"
   ]
  },
  {
   "cell_type": "code",
   "execution_count": 4,
   "metadata": {
    "_uuid": "549e39f614c96800ff58040e2c6df9ea0392be71"
   },
   "outputs": [
    {
     "name": "stdout",
     "output_type": "stream",
     "text": [
      "Train Dataset shape:\n",
      "(4459, 4991)\n",
      "\n",
      "Test Dataset shape:\n",
      "(49342, 4991)\n"
     ]
    }
   ],
   "source": [
    "print('Train Dataset shape:')\n",
    "print(train_df.shape)\n",
    "print()\n",
    "print('Test Dataset shape:')\n",
    "print(test_df.shape)"
   ]
  },
  {
   "cell_type": "code",
   "execution_count": 5,
   "metadata": {
    "_uuid": "121efe606b9c6cd8be79090e62b317520969252e"
   },
   "outputs": [
    {
     "name": "stderr",
     "output_type": "stream",
     "text": [
      "D:\\Users\\Gabriel\\Anaconda3\\lib\\site-packages\\matplotlib\\axes\\_axes.py:6462: UserWarning: The 'normed' kwarg is deprecated, and has been replaced by the 'density' kwarg.\n",
      "  warnings.warn(\"The 'normed' kwarg is deprecated, and has been \"\n"
     ]
    },
    {
     "data": {
      "image/png": "[encoded data removed]",
      "text/plain": [
       "<Figure size 432x288 with 1 Axes>"
      ]
     },
     "metadata": {},
     "output_type": "display_data"
    }
   ],
   "source": [
    "sns.distplot(target_df);"
   ]
  },
  {
   "cell_type": "code",
   "execution_count": 6,
   "metadata": {
    "_uuid": "06f13169eb00433e4262746d48b816d7c2db4030"
   },
   "outputs": [],
   "source": [
    "# cols_with_unique_value = train_df.columns[train_df.nunique()==1]\n",
    "# train_df = train_df.drop(cols_with_unique_value, axis = 1)\n",
    "# test_df = test_df.drop(cols_with_unique_value, axis = 1)\n",
    "# train_df.shape"
   ]
  },
  {
   "cell_type": "code",
   "execution_count": 7,
   "metadata": {
    "_uuid": "9be290db0f9a9e5339e598d5852125e0f9dea99e"
   },
   "outputs": [],
   "source": [
    "# cols_to_remove = []\n",
    "# columns = train_df.columns\n",
    "# for i in range(len(columns)-1):\n",
    "#     col_value_test = train_df[columns[i]].values\n",
    "#     for j in range(i+1, len(columns)):\n",
    "#         if np.array_equal(col_value_test, train_df[columns[j]]):\n",
    "#             cols_to_remove.append(columns[j])\n",
    "# train_df = train_df.drop(cols_to_remove, axis = 1)\n",
    "# test_df = test_df.drop(cols_to_remove, axis = 1)"
   ]
  },
  {
   "cell_type": "code",
   "execution_count": 8,
   "metadata": {
    "_uuid": "7ec400626ab8b9995513cd34b4fd87941abdfd34"
   },
   "outputs": [],
   "source": [
    "cols_with_same_value = ['d60ddde1b', 'acc5b709d', 'f333a5f60', 'f8d75792f', '912836770', 'f333a5f60']\n",
    "cols_with_unique_value = [\"d5308d8bc\",\"c330f1a67\",\"eeac16933\",\"7df8788e8\",\"5b91580ee\",\"6f29fbbc7\",\"46dafc868\",\"ae41a98b6\",\"f416800e9\",\"6d07828ca\",\"7ac332a1d\",\"70ee7950a\",\"833b35a7c\",\"2f9969eab\",\"8b1372217\",\"68322788b\",\"2288ac1a6\",\"dc7f76962\",\"467044c26\",\"39ebfbfd9\",\"9a5ff8c23\",\"f6fac27c8\",\"664e2800e\",\"ae28689a2\",\"d87dcac58\",\"4065efbb6\",\"f944d9d43\",\"c2c4491d5\",\"a4346e2e2\",\"1af366d4f\",\"cfff5b7c8\",\"da215e99e\",\"5acd26139\",\"9be9c6cef\",\"1210d0271\",\"21b0a54cb\",\"da35e792b\",\"754c502dd\",\"0b346adbd\",\"0f196b049\",\"b603ed95d\",\"2a50e001c\",\"1e81432e7\",\"10350ea43\",\"3c7c7e24c\",\"7585fce2a\",\"64d036163\",\"f25d9935c\",\"d98484125\",\"95c85e227\",\"9a5273600\",\"746cdb817\",\"6377a6293\",\"7d944fb0c\",\"87eb21c50\",\"5ea313a8c\",\"0987a65a1\",\"2fb7c2443\",\"f5dde409b\",\"1ae50d4c3\",\"2b21cd7d8\",\"0db8a9272\",\"804d8b55b\",\"76f135fa6\",\"7d7182143\",\"f88e61ae6\",\"378ed28e0\",\"ca4ba131e\",\"1352ddae5\",\"2b601ad67\",\"6e42ff7c7\",\"22196a84c\",\"0e410eb3d\",\"992e6d1d3\",\"90a742107\",\"08b9ec4ae\",\"d95203ded\",\"58ad51def\",\"9f69ae59f\",\"863de8a31\",\"be10df47c\",\"f006d9618\",\"a7e39d23d\",\"5ed0abe85\",\"6c578fe94\",\"7fa4fcee9\",\"5e0571f07\",\"fd5659511\",\"e06b9f40f\",\"c506599c8\",\"99de8c2dc\",\"b05f4b229\",\"5e0834175\",\"eb1cc0d9c\",\"b281a62b9\",\"00fcf67e4\",\"e37b65992\",\"2308e2b29\",\"c342e8709\",\"708471ebf\",\"f614aac15\",\"15ecf7b68\",\"3bfe540f1\",\"7a0d98f3c\",\"e642315a5\",\"c16d456a7\",\"0c9b5bcfa\",\"b778ab129\",\"2ace87cdd\",\"697a566f0\",\"97b1f84fc\",\"34eff114b\",\"5281333d7\",\"c89f3ba7e\",\"cd6d3c7e6\",\"fc7c8f2e8\",\"abbbf9f82\",\"24a233e8f\",\"8e26b560e\",\"a28ac1049\",\"504502ce1\",\"d9a8615f3\",\"4efd6d283\",\"34cc56e83\",\"93e98252a\",\"2b6cef19e\",\"c7f70a49b\",\"0d29ab7eb\",\"e4a0d39b7\",\"a4d1a8409\",\"bc694fc8f\",\"3a36fc3a2\",\"4ffba44d3\",\"9bfdec4bc\",\"66a866d2f\",\"f941e9df7\",\"e7af4dbf3\",\"dc9a54a3e\",\"748168a04\",\"bba8ce4bb\",\"ff6f62aa4\",\"b06fe66ba\",\"ae87ebc42\",\"f26589e57\",\"963bb53b1\",\"a531a4bf0\",\"9fc79985d\",\"9350d55c1\",\"de06e884c\",\"fc10bdf18\",\"e0907e883\",\"c586d79a1\",\"e15e1513d\",\"a06067897\",\"643e42fcb\",\"217cd3838\",\"047ebc242\",\"9b6ce40cf\",\"3b2c972b3\",\"17a7bf25a\",\"c9028d46b\",\"9e0473c91\",\"6b041d374\",\"783c50218\",\"19122191d\",\"ce573744f\",\"1c4ea481e\",\"fbd6e0a0b\",\"69831c049\",\"b87e3036b\",\"54ba515ee\",\"a09ba0b15\",\"90f77ec55\",\"fb02ef0ea\",\"3b0cccd29\",\"fe9ed417c\",\"589e8bd6f\",\"17b5a03fd\",\"80e16b49a\",\"a3d5c2c2a\",\"1bd3a4e92\",\"611d81daa\",\"3d7780b1c\",\"113fd0206\",\"5e5894826\",\"cb36204f9\",\"bc4e3d600\",\"c66e2deb0\",\"c25851298\",\"a7f6de992\",\"3f93a3272\",\"c1b95c2ec\",\"6bda21fee\",\"4a64e56e7\",\"943743753\",\"20854f8bf\",\"ac2e428a9\",\"5ee7de0be\",\"316423a21\",\"2e52b0c6a\",\"8bdf6bc7e\",\"8f523faf2\",\"4758340d5\",\"8411096ec\",\"9678b95b7\",\"a185e35cc\",\"fa980a778\",\"c8d90f7d7\",\"080540c81\",\"32591c8b4\",\"5779da33c\",\"bb425b41e\",\"01599af81\",\"1654ab770\",\"d334a588e\",\"b4353599c\",\"51b53eaec\",\"2cc0fbc52\",\"45ffef194\",\"c15ac04ee\",\"5b055c8ea\",\"d0466eb58\",\"a80633823\",\"a117a5409\",\"7ddac276f\",\"8c32df8b3\",\"e5649663e\",\"6c16efbb8\",\"9118fd5ca\",\"ca8d565f1\",\"16a5bb8d2\",\"fd6347461\",\"f5179fb9c\",\"97428b646\",\"f684b0a96\",\"e4b2caa9f\",\"2c2d9f267\",\"96eb14eaf\",\"cb2cb460c\",\"86f843927\",\"ecd16fc60\",\"801c6dc8e\",\"f859a25b8\",\"ae846f332\",\"2252c7403\",\"fb9e07326\",\"d196ca1fd\",\"a8e562e8e\",\"eb6bb7ce1\",\"5beff147e\",\"52b347cdc\",\"4600aadcf\",\"6fa0b9dab\",\"43d70cc4d\",\"408021ef8\",\"e29d22b59\"]\n",
    "\n",
    "train_df = train_df.drop(cols_with_same_value, axis = 1)\n",
    "test_df = test_df.drop(cols_with_same_value, axis = 1)\n",
    "\n",
    "train_df = train_df.drop(cols_with_unique_value, axis = 1)\n",
    "test_df = test_df.drop(cols_with_unique_value, axis = 1)"
   ]
  },
  {
   "cell_type": "code",
   "execution_count": 10,
   "metadata": {
    "_uuid": "94d86fc4862d21d77af121839a56465b52b9c8d2"
   },
   "outputs": [
    {
     "name": "stderr",
     "output_type": "stream",
     "text": [
      "D:\\Users\\Gabriel\\Anaconda3\\lib\\site-packages\\matplotlib\\axes\\_axes.py:6462: UserWarning: The 'normed' kwarg is deprecated, and has been replaced by the 'density' kwarg.\n",
      "  warnings.warn(\"The 'normed' kwarg is deprecated, and has been \"\n"
     ]
    },
    {
     "data": {
      "image/png": "[encoded data removed]",
      "text/plain": [
       "<Figure size 432x288 with 1 Axes>"
      ]
     },
     "metadata": {},
     "output_type": "display_data"
    }
   ],
   "source": [
    "target_df = np.log1p(target_df)\n",
    "target_df = pd.DataFrame(target_df, columns=['target'])\n",
    "sns.distplot(target_df);"
   ]
  },
  {
   "cell_type": "code",
   "execution_count": 11,
   "metadata": {
    "_uuid": "aa4dbe1278c8dcd09befa1d8b0d9770b73be33df"
   },
   "outputs": [],
   "source": [
    "# scaler = StandardScaler()\n",
    "# train_df = scaler.fit_transform(train_df)\n",
    "# test_df = scaler.transform(test_df)\n",
    "# train_df = pd.DataFrame(train_df_scaled, index = train_df.index, columns = train_df.columns)\n",
    "# test_df = pd.DataFrame(test_df_scaled, index = test_df.index, columns = test_df.columns)"
   ]
  },
  {
   "cell_type": "code",
   "execution_count": 15,
   "metadata": {
    "_uuid": "4c2b07336897bcbf0dcf3a7420e93ce26a2537f8"
   },
   "outputs": [
    {
     "data": {
      "text/plain": [
       "RandomForestRegressor(bootstrap=True, criterion='mse', max_depth=None,\n",
       "           max_features='auto', max_leaf_nodes=None,\n",
       "           min_impurity_decrease=0.0, min_impurity_split=None,\n",
       "           min_samples_leaf=1, min_samples_split=2,\n",
       "           min_weight_fraction_leaf=0.0, n_estimators=10, n_jobs=-1,\n",
       "           oob_score=False, random_state=7, verbose=0, warm_start=False)"
      ]
     },
     "execution_count": 15,
     "metadata": {},
     "output_type": "execute_result"
    }
   ],
   "source": [
    "x1, x2, y1, y2 = train_test_split(train_df, target_df, test_size=0.2, random_state=seed)\n",
    "model = RandomForestRegressor(n_jobs=-1, random_state=seed)\n",
    "model.fit(x1, np.ravel(y1))"
   ]
  },
  {
   "cell_type": "code",
   "execution_count": 26,
   "metadata": {
    "_uuid": "c12a843ea97f0688935fdfe1fc9c4c1c1d7ae77f"
   },
   "outputs": [
    {
     "data": {
      "text/plain": [
       "0.9569935387923412"
      ]
     },
     "execution_count": 26,
     "metadata": {},
     "output_type": "execute_result"
    }
   ],
   "source": [
    "num_of_features = 1000\n",
    "relative_importance = pd.DataFrame({'Importance': model.feature_importances_/model.feature_importances_.sum(), 'Feature': train_df.columns}).sort_values(by='Importance', ascending=False)\n",
    "relative_importance.Importance.values[:num_of_features].sum()"
   ]
  },
  {
   "cell_type": "code",
   "execution_count": 27,
   "metadata": {
    "_uuid": "f422adbcb54f7b374ed63fd0ba1ceabcca4edcca",
    "scrolled": true
   },
   "outputs": [
    {
     "data": {
      "text/plain": [
       "((4459, 1000), (49342, 1000))"
      ]
     },
     "execution_count": 27,
     "metadata": {},
     "output_type": "execute_result"
    }
   ],
   "source": [
    "important_features = pd.DataFrame({'importance': model.feature_importances_, 'feature': train_df.columns}).sort_values(by=['importance'], ascending=[False])[:num_of_features]['feature'].values\n",
    "\n",
    "train_df_idrop = train_df[important_features]\n",
    "test_df_idrop = test_df[important_features]\n",
    "\n",
    "train_df_idrop.shape, test_df_idrop.shape"
   ]
  },
  {
   "cell_type": "code",
   "execution_count": 28,
   "metadata": {
    "_uuid": "83fb2c50ca7c51317d93be62ed36f9e3737711b5",
    "scrolled": false
   },
   "outputs": [
    {
     "data": {
      "text/plain": [
       "(4459, 1111)"
      ]
     },
     "execution_count": 28,
     "metadata": {},
     "output_type": "execute_result"
    }
   ],
   "source": [
    "from sklearn import random_projection\n",
    "pd.options.mode.chained_assignment = None  # default='warn'\n",
    "ntrain = len(train_df_idrop)\n",
    "ntest = len(test_df_idrop)\n",
    "\n",
    "tmp = pd.concat([train_df_idrop, test_df_idrop])#RandomProjection\n",
    "weight = ((train_df_idrop != 0).sum()/len(train_df_idrop)).values\n",
    "tmp_train = train_df_idrop[train_df_idrop!=0]\n",
    "tmp_test = test_df_idrop[test_df_idrop!=0]\n",
    "\n",
    "train_df_idrop[\"weight_count\"] = (tmp_train*weight).sum(axis=1)\n",
    "test_df_idrop[\"weight_count\"] = (tmp_test*weight).sum(axis=1)\n",
    "train_df_idrop[\"count_not0\"] = (train_df_idrop != 0).sum(axis=1)\n",
    "test_df_idrop[\"count_not0\"] = (test_df_idrop != 0).sum(axis=1)\n",
    "train_df_idrop[\"sum\"] = train_df_idrop.sum(axis=1)\n",
    "test_df_idrop[\"sum\"] = test_df_idrop.sum(axis=1)\n",
    "train_df_idrop[\"var\"] = tmp_train.var(axis=1)\n",
    "test_df_idrop[\"var\"] = tmp_test.var(axis=1)\n",
    "train_df_idrop[\"median\"] = tmp_train.median(axis=1)\n",
    "test_df_idrop[\"median\"] = tmp_test.median(axis=1)\n",
    "train_df_idrop[\"mean\"] = tmp_train.mean(axis=1)\n",
    "test_df_idrop[\"mean\"] = tmp_test.mean(axis=1)\n",
    "train_df_idrop[\"std\"] = tmp_train.std(axis=1)\n",
    "test_df_idrop[\"std\"] = tmp_test.std(axis=1)\n",
    "train_df_idrop[\"max\"] = tmp_train.max(axis=1)\n",
    "test_df_idrop[\"max\"] = tmp_test.max(axis=1)\n",
    "train_df_idrop[\"min\"] = tmp_train.min(axis=1)\n",
    "test_df_idrop[\"min\"] = tmp_test.min(axis=1)\n",
    "train_df_idrop[\"skew\"] = tmp_train.skew(axis=1)\n",
    "test_df_idrop[\"skew\"] = tmp_test.skew(axis=1)\n",
    "train_df_idrop[\"kurtosis\"] = tmp_train.kurtosis(axis=1)\n",
    "test_df_idrop[\"kurtosis\"] = tmp_test.kurtosis(axis=1)\n",
    "del(tmp_train)\n",
    "del(tmp_test)\n",
    "NUM_OF_COM = 100 #need tuned\n",
    "transformer = random_projection.SparseRandomProjection(n_components = NUM_OF_COM)\n",
    "RP = transformer.fit_transform(tmp)\n",
    "rp = pd.DataFrame(RP)\n",
    "columns = [\"RandomProjection{}\".format(i) for i in range(NUM_OF_COM)]\n",
    "rp.columns = columns\n",
    "\n",
    "rp_train = rp[:ntrain]\n",
    "rp_train.index = train_df_idrop.index\n",
    "rp_test = rp[ntrain:]\n",
    "rp_test.index = test_df_idrop.index\n",
    "\n",
    "#concat RandomProjection and raw data\n",
    "train_df_idrop = pd.DataFrame(pd.concat([train_df_idrop,rp_train],axis=1))\n",
    "test_df_idrop = pd.DataFrame(pd.concat([test_df_idrop,rp_test],axis=1))\n",
    "\n",
    "del(rp_train)\n",
    "del(rp_test)\n",
    "train_df_idrop.shape"
   ]
  },
  {
   "cell_type": "code",
   "execution_count": 29,
   "metadata": {
    "_uuid": "e3ec0a5cbbc8d12045fe215226fa0a2e577aed93",
    "scrolled": true
   },
   "outputs": [],
   "source": [
    "train_df_idrop = np.log1p(train_df_idrop)\n",
    "test_df_idrop = np.log1p(test_df_idrop)"
   ]
  },
  {
   "cell_type": "code",
   "execution_count": 30,
   "metadata": {
    "_uuid": "2554f62cf11951ff4eb5da753a1e7ab77cad8559"
   },
   "outputs": [
    {
     "data": {
      "text/plain": [
       "((0, 1111), (0, 1111))"
      ]
     },
     "execution_count": 30,
     "metadata": {},
     "output_type": "execute_result"
    }
   ],
   "source": [
    "features = train_df_idrop.columns\n",
    "outliers = pd.DataFrame(columns=train_df_idrop.columns)\n",
    "for col in features:\n",
    "    outliers_high = train_df_idrop[train_df_idrop[col] > train_df_idrop[col].mean() + 3 * train_df_idrop[col].std()]\n",
    "    outliers_low = train_df_idrop[train_df_idrop[col] < train_df_idrop[col].mean() - 3 * train_df_idrop[col].std()]\n",
    "outliers_high.shape, outliers_low.shape"
   ]
  },
  {
   "cell_type": "code",
   "execution_count": 31,
   "metadata": {
    "_uuid": "cd230bb2d4425325f8304cb5265f15846e04b1a5"
   },
   "outputs": [],
   "source": [
    "train_df_idrop = train_df_idrop.drop(outliers_high.index)\n",
    "train_df_idrop = train_df_idrop.drop(outliers_low.index)"
   ]
  },
  {
   "cell_type": "code",
   "execution_count": 32,
   "metadata": {
    "_uuid": "78de9d838af81325bf3666fc7a349a617d95d46d"
   },
   "outputs": [],
   "source": [
    "target_df = target_df.drop(outliers_high.index)\n",
    "target_df = target_df.drop(outliers_low.index)"
   ]
  },
  {
   "cell_type": "code",
   "execution_count": 55,
   "metadata": {
    "_uuid": "4abf97735054e395cc6f34824f0fd62405700975"
   },
   "outputs": [],
   "source": [
    "X_train, X_test, y_train, y_test = train_test_split(train_df_idrop, target_df, test_size=0.2, random_state=seed)\n",
    "kfold = KFold(n_splits=5, shuffle=True, random_state=seed)"
   ]
  },
  {
   "cell_type": "code",
   "execution_count": 34,
   "metadata": {
    "_uuid": "b1f8420c67ba1653649f1396adeac9d647afe42b",
    "scrolled": true
   },
   "outputs": [],
   "source": [
    "# for alpha in [2.5e17, 5e17, 8e17, 1e18, 5e18, 1e19]:\n",
    "#     ridge_model = Ridge(alpha = alpha)    \n",
    "#     print('Training for alpha:', alpha)\n",
    "#     total_error = 0\n",
    "#     for train_indices, test_indices in kfold.split(train_df):\n",
    "        \n",
    "#         X_train_subset = train_df_drop.iloc[train_indices,:]\n",
    "#         y_train_subset = log_target_df.iloc[train_indices]\n",
    "\n",
    "#         X_test_subset = train_df_drop.iloc[test_indices,:]\n",
    "#         y_test_subset = log_target_df.iloc[test_indices]\n",
    "\n",
    "#         ridge_model.fit(X_train_subset, y_train_subset)\n",
    "#         model_pred = ridge_model.predict(X_test_subset)\n",
    "\n",
    "#         model_error = np.sqrt(mean_squared_error(model_pred, y_test_subset))\n",
    "#         print('RMSLE:', model_error)\n",
    "#         total_error += model_error\n",
    "        \n",
    "#     print('Alpha',alpha,'Average RMSLE:', (total_error/5),'\\n')\n",
    "# print('FINISHED')"
   ]
  },
  {
   "cell_type": "code",
   "execution_count": 35,
   "metadata": {
    "_uuid": "7104a2cc6ec9bd840952dd2200434ab13a6642af"
   },
   "outputs": [],
   "source": [
    "# for alpha in [9e4, 1e5, 5e5, 1e6]:\n",
    "#     lasso_model = Lasso(alpha = alpha)    \n",
    "#     print('Training for alpha:', alpha)\n",
    "#     total_error = 0\n",
    "#     for train_indices, test_indices in kfold.split(train_df):\n",
    "        \n",
    "#         X_train_subset = train_df_drop.iloc[train_indices,:]\n",
    "#         y_train_subset = log_target_df.iloc[train_indices]\n",
    "\n",
    "#         X_test_subset = train_df_drop.iloc[test_indices,:]\n",
    "#         y_test_subset = log_target_df.iloc[test_indices]\n",
    "\n",
    "#         lasso_model.fit(X_train_subset, y_train_subset)\n",
    "#         model_pred = lasso_model.predict(X_test_subset)\n",
    "\n",
    "#         model_error = np.sqrt(mean_squared_error(model_pred, y_test_subset))\n",
    "#         print('RMSLE:', model_error)\n",
    "#         total_error += model_error\n",
    "        \n",
    "#     print('Alpha',alpha,'Average RMSLE:', (total_error/5),'\\n')\n",
    "# print('FINISHED')"
   ]
  },
  {
   "cell_type": "code",
   "execution_count": 36,
   "metadata": {
    "_uuid": "e03da6e208ed2d338abd5a29e891acc10e4f786e"
   },
   "outputs": [],
   "source": [
    "# xgb_model = XGBRegressor()\n",
    "# learning_rate = [0.01, 0.1, 0.2, 0.3]\n",
    "# n_estimators = 1000\n",
    "# max_depth = range(2,10,2)\n",
    "# min_children_weight = range(0,8,2)\n",
    "# param_grid = dict(learning_rate=learning_rate, n_estimators=n_estimators, max_depth=max_depth)\n",
    "# kfold = KFold(n_splits=10, shuffle=True, random_state=7)\n",
    "# grid_search = GridSearchCV(xgb_model, param_grid, scoring=\"neg_mean_squared_log_error\", n_jobs=1, cv=kfold, verbose=True)\n",
    "# grid_result = grid_search.fit(train_df_drop, log_target_df)"
   ]
  },
  {
   "cell_type": "code",
   "execution_count": 37,
   "metadata": {
    "_uuid": "0fc09242af8523e2f640dd6ac42a81e056c83919",
    "scrolled": true
   },
   "outputs": [],
   "source": [
    "early_stopping_rounds = 20\n",
    "cv = 5\n",
    "eval_set = [(X_train, y_train),(X_test, y_test)]\n",
    "\n",
    "xgb_model = xgb.XGBRegressor(colsample_bytree=0.055, colsample_bylevel =0.5, \n",
    "                             gamma=1.5, learning_rate=0.02, max_depth=32, \n",
    "                             objective='reg:linear',booster='gbtree',\n",
    "                             min_child_weight=57, n_estimators=1000, reg_alpha=0, \n",
    "                             reg_lambda = 0,eval_metric = 'rmse', subsample=0.7, \n",
    "                             silent=1, n_jobs = -1, early_stopping_rounds = 14,\n",
    "                             random_state =7, nthread = -1)"
   ]
  },
  {
   "cell_type": "code",
   "execution_count": 38,
   "metadata": {
    "_uuid": "c45636d60a5e3ac8a6604ed9104cff6074dbf916"
   },
   "outputs": [
    {
     "name": "stdout",
     "output_type": "stream",
     "text": [
      "Xgboost score: 1.3577 (0.0307)\n",
      "\n"
     ]
    }
   ],
   "source": [
    "score = np.sqrt(-cross_val_score(xgb_model, train_df_idrop, target_df, scoring=\"neg_mean_squared_error\", cv = kfold))\n",
    "print(\"Xgboost score: {:.4f} ({:.4f})\\n\".format(score.mean(), score.std()))"
   ]
  },
  {
   "cell_type": "code",
   "execution_count": 56,
   "metadata": {
    "_uuid": "83d794e6b9872a184101df01e090045f51708809"
   },
   "outputs": [],
   "source": [
    "model_lgb = lgb.LGBMRegressor(objective='regression',num_leaves=144,\n",
    "                              learning_rate=0.005, n_estimators=720, max_depth=13,\n",
    "                              metric='rmse',is_training_metric=True,\n",
    "                              max_bin = 55, bagging_fraction = 0.8,verbose=-1,\n",
    "                              bagging_freq = 5, feature_fraction = 0.9) "
   ]
  },
  {
   "cell_type": "code",
   "execution_count": 60,
   "metadata": {
    "_uuid": "a567c258bf00010aa17a5e8f74ad55fb636385a0"
   },
   "outputs": [
    {
     "name": "stdout",
     "output_type": "stream",
     "text": [
      "LGB score: 1.3425 (0.0274)\n",
      "\n"
     ]
    }
   ],
   "source": [
    "score = np.sqrt(-cross_val_score(model_lgb, train_df_idrop, np.ravel(target_df), scoring=\"neg_mean_squared_error\", cv = kfold))\n",
    "print(\"LGB score: {:.4f} ({:.4f})\\n\".format(score.mean(), score.std()))"
   ]
  },
  {
   "cell_type": "code",
   "execution_count": null,
   "metadata": {},
   "outputs": [],
   "source": []
  },
  {
   "cell_type": "code",
   "execution_count": null,
   "metadata": {
    "_uuid": "86e6a6ee5e3215cb524f5c564cac381de107dee4",
    "collapsed": true
   },
   "outputs": [],
   "source": [
    "xgtrain = xgb.DMatrix(train_df_idrop, target_df)\n",
    "xgb_param = xgb_model.get_xgb_params()\n",
    "results = xgb.cv(xgb_param, xgtrain, num_boost_round=1000, nfold=cv, metrics='rmse', early_stopping_rounds=early_stopping_rounds, verbose_eval=25)\n",
    "print('Done!')"
   ]
  },
  {
   "cell_type": "code",
   "execution_count": null,
   "metadata": {
    "_uuid": "3b33d5298970e5c4a5e5f09cdad0d8d7a49852cd",
    "collapsed": true
   },
   "outputs": [],
   "source": [
    "results['upper bound'] = results['test-rmse-mean'] + results['test-rmse-std']\n",
    "results['lower bound'] = results['test-rmse-mean'] - results['test-rmse-std']\n",
    "print('Lowest mean')\n",
    "print(results.sort_values(by = 'test-rmse-mean').iloc[1])\n",
    "print()\n",
    "print('Upper Bound')\n",
    "print(results.sort_values(by = 'upper bound').iloc[1])\n",
    "print()\n",
    "print('Lower Bound')\n",
    "print(results.sort_values(by = 'lower bound').iloc[1])"
   ]
  },
  {
   "cell_type": "code",
   "execution_count": null,
   "metadata": {
    "_uuid": "199e31dfdbad39a56ff9b5ff024d2b663fcd2a61",
    "collapsed": true
   },
   "outputs": [],
   "source": [
    "# xgb_model = XGBRegressor(\n",
    "#  learning_rate =0.02,\n",
    "#  n_estimators=1000,\n",
    "#  max_depth=10,\n",
    "#  min_child_weight=8,\n",
    "#  gamma=0,\n",
    "#  subsample=0.8,\n",
    "#  colsample_bytree=0.8,\n",
    "#  nthread=-1,\n",
    "#  scale_pos_weight=1,\n",
    "#  seed=seed)\n",
    "\n",
    "# Lowest mean\n",
    "# train-rmse-mean    0.783702\n",
    "# train-rmse-std     0.003180\n",
    "# test-rmse-mean     1.421520\n",
    "# test-rmse-std      0.024123\n",
    "# upper bound        1.445642\n",
    "# lower bound        1.397397\n",
    "# Name: 547, dtype: float64\n",
    "\n",
    "# Upper Bound\n",
    "# train-rmse-mean    0.783702\n",
    "# train-rmse-std     0.003180\n",
    "# test-rmse-mean     1.421520\n",
    "# test-rmse-std      0.024123\n",
    "# upper bound        1.445642\n",
    "# lower bound        1.397397\n",
    "# Name: 547, dtype: float64\n",
    "\n",
    "# Lower Bound\n",
    "# train-rmse-mean    0.795946\n",
    "# train-rmse-std     0.003433\n",
    "# test-rmse-mean     1.421709\n",
    "# test-rmse-std      0.024482\n",
    "# upper bound        1.446190\n",
    "# lower bound        1.397227\n",
    "# Name: 524, dtype: float64"
   ]
  },
  {
   "cell_type": "code",
   "execution_count": null,
   "metadata": {
    "_uuid": "3dbaa3f813b44d3aaa6acca23fb86d51b91c65f3",
    "collapsed": true
   },
   "outputs": [],
   "source": [
    "xgb_model = xgb.XGBRegressor(colsample_bytree=0.055, colsample_bylevel =0.5, \n",
    "                             gamma=8, learning_rate=0.01, max_depth=10,\n",
    "                             objective='reg:linear',booster='gbtree',\n",
    "                             min_child_weight=15, n_estimators=995, reg_alpha=0, \n",
    "                             reg_lambda = 0,eval_metric = 'rmse', subsample=0.7, \n",
    "                             silent=1, n_jobs = -1, early_stopping_rounds = 50,\n",
    "                             random_state =seed, nthread = -1)"
   ]
  },
  {
   "cell_type": "code",
   "execution_count": null,
   "metadata": {
    "_uuid": "c9f77fec671f62fc2a11831340b58493582bdbe3",
    "collapsed": true,
    "scrolled": true
   },
   "outputs": [],
   "source": [
    "xgb_model.fit(X_train, y_train, early_stopping_rounds=early_stopping_rounds, eval_metric='rmse', eval_set=eval_set, verbose=50)"
   ]
  },
  {
   "cell_type": "markdown",
   "metadata": {
    "_uuid": "7fc333d6b1bd9bb54aa184a484a3b0949aff18ae"
   },
   "source": [
    "[514]\tvalidation_0-rmse:1.12606\tvalidation_1-rmse:1.35497\n",
    "\n",
    "XGBRegressor(base_score=0.5, booster='gbtree', colsample_bylevel=1,\n",
    "       colsample_bytree=0.8, gamma=0, learning_rate=0.01, max_delta_step=0,\n",
    "       max_depth=30, min_child_weight=50, missing=None, n_estimators=1000,\n",
    "       n_jobs=1, nthread=-1, objective='reg:linear', random_state=0,\n",
    "       reg_alpha=0, reg_lambda=1, scale_pos_weight=1, seed=7, silent=True,\n",
    "       subsample=0.8)"
   ]
  },
  {
   "cell_type": "code",
   "execution_count": null,
   "metadata": {
    "_uuid": "99f0a37e6d6f7a0645ca0891db1e5b4a1281f8b4",
    "collapsed": true
   },
   "outputs": [],
   "source": [
    "xgb_full_model = xgb.XGBRegressor(colsample_bytree=0.055, colsample_bylevel =0.5, \n",
    "                             gamma=8, learning_rate=0.01, max_depth=10,\n",
    "                             objective='reg:linear',booster='gbtree',\n",
    "                             min_child_weight=15, n_estimators=753, reg_alpha=0, \n",
    "                             reg_lambda = 0,eval_metric = 'rmse', subsample=0.7, \n",
    "                             silent=1, n_jobs = -1, early_stopping_rounds = 50,\n",
    "                             random_state =seed, nthread = -1)"
   ]
  },
  {
   "cell_type": "code",
   "execution_count": null,
   "metadata": {
    "_uuid": "0bb7ce66c56204b063e209b52964f589f46ff6b1",
    "collapsed": true
   },
   "outputs": [],
   "source": [
    "xgb_full_model.fit(train_df_idrop, log_target_df, eval_metric=\"rmse\", verbose=True)"
   ]
  },
  {
   "cell_type": "code",
   "execution_count": null,
   "metadata": {
    "_uuid": "07c0f188fbe32a48060b41cda8ce0721e27af27b",
    "collapsed": true
   },
   "outputs": [],
   "source": [
    "xgb_pred = xgb_model.predict(test_df_idrop)\n",
    "xgb_pred_df = pd.DataFrame(test_df.index.values, columns=[\"ID\"])\n",
    "xgb_pred_df['target'] = np.expm1(xgb_pred)"
   ]
  },
  {
   "cell_type": "code",
   "execution_count": null,
   "metadata": {
    "_uuid": "4967e07908b4474dc12f906befdb3ae326592e3f",
    "collapsed": true,
    "scrolled": true
   },
   "outputs": [],
   "source": [
    "with pd.option_context('display.max_rows', None, 'display.max_columns', 3):\n",
    "    pd.options.display.float_format = '{:.3f}'.format\n",
    "    print(xgb_pred_df, )"
   ]
  },
  {
   "cell_type": "code",
   "execution_count": null,
   "metadata": {
    "_uuid": "7eff5331d1f753dc333b511d790dd7536a07ae0b",
    "collapsed": true
   },
   "outputs": [],
   "source": [
    "xgb_pred_df.to_csv('prediction.csv')"
   ]
  },
  {
   "cell_type": "markdown",
   "metadata": {
    "_uuid": "6a017cfcd9daad6fecfeed52ca5e68b10fc5a41e"
   },
   "source": [
    "XGBoost (Log Target + Drop): 1.58336621676"
   ]
  }
 ],
 "metadata": {
  "kernelspec": {
   "display_name": "Python 3",
   "language": "python",
   "name": "python3"
  },
  "language_info": {
   "codemirror_mode": {
    "name": "ipython",
    "version": 3
   },
   "file_extension": ".py",
   "mimetype": "text/x-python",
   "name": "python",
   "nbconvert_exporter": "python",
   "pygments_lexer": "ipython3",
   "version": "3.6.3"
  }
 },
 "nbformat": 4,
 "nbformat_minor": 1
}
